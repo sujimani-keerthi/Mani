{
  "nbformat": 4,
  "nbformat_minor": 0,
  "metadata": {
    "colab": {
      "provenance": [],
      "authorship_tag": "ABX9TyM7l1CuhVhRPc5EsEGTVkjb",
      "include_colab_link": true
    },
    "kernelspec": {
      "name": "python3",
      "display_name": "Python 3"
    },
    "language_info": {
      "name": "python"
    }
  },
  "cells": [
    {
      "cell_type": "markdown",
      "metadata": {
        "id": "view-in-github",
        "colab_type": "text"
      },
      "source": [
        "<a href=\"https://colab.research.google.com/github/sujimani-keerthi/Mani/blob/main/Predicting_Cust_Purchase_NumpyProject2.ipynb\" target=\"_parent\"><img src=\"https://colab.research.google.com/assets/colab-badge.svg\" alt=\"Open In Colab\"/></a>"
      ]
    },
    {
      "cell_type": "code",
      "execution_count": null,
      "metadata": {
        "id": "6ydFZ1HPxOQ_"
      },
      "outputs": [],
      "source": [
        "from numpy import random\n",
        "import matplotlib.pyplot as plt\n",
        "import pandas as pd\n",
        "import numpy as np\n",
        "import seaborn as sns"
      ]
    },
    {
      "cell_type": "code",
      "source": [
        "df=pd.read_csv('/content/shopping_behavior_updated.csv')\n",
        "print(df.head())\n",
        "print(df.columns)"
      ],
      "metadata": {
        "colab": {
          "base_uri": "https://localhost:8080/"
        },
        "id": "E5sO9-Zzzsl2",
        "outputId": "d1262996-6965-49ea-827f-d5edef8ac695"
      },
      "execution_count": null,
      "outputs": [
        {
          "output_type": "stream",
          "name": "stdout",
          "text": [
            "   Customer ID  Age Gender Item Purchased  Category  Purchase Amount (USD)  \\\n",
            "0            1   55   Male         Blouse  Clothing                     53   \n",
            "1            2   19   Male        Sweater  Clothing                     64   \n",
            "2            3   50   Male          Jeans  Clothing                     73   \n",
            "3            4   21   Male        Sandals  Footwear                     90   \n",
            "4            5   45   Male         Blouse  Clothing                     49   \n",
            "\n",
            "        Location Size      Color  Season  Review Rating Subscription Status  \\\n",
            "0       Kentucky    L       Gray  Winter            3.1                 Yes   \n",
            "1          Maine    L     Maroon  Winter            3.1                 Yes   \n",
            "2  Massachusetts    S     Maroon  Spring            3.1                 Yes   \n",
            "3   Rhode Island    M     Maroon  Spring            3.5                 Yes   \n",
            "4         Oregon    M  Turquoise  Spring            2.7                 Yes   \n",
            "\n",
            "   Shipping Type Discount Applied Promo Code Used  Previous Purchases  \\\n",
            "0        Express              Yes             Yes                  14   \n",
            "1        Express              Yes             Yes                   2   \n",
            "2  Free Shipping              Yes             Yes                  23   \n",
            "3   Next Day Air              Yes             Yes                  49   \n",
            "4  Free Shipping              Yes             Yes                  31   \n",
            "\n",
            "  Payment Method Frequency of Purchases  \n",
            "0          Venmo            Fortnightly  \n",
            "1           Cash            Fortnightly  \n",
            "2    Credit Card                 Weekly  \n",
            "3         PayPal                 Weekly  \n",
            "4         PayPal               Annually  \n",
            "Index(['Customer ID', 'Age', 'Gender', 'Item Purchased', 'Category',\n",
            "       'Purchase Amount (USD)', 'Location', 'Size', 'Color', 'Season',\n",
            "       'Review Rating', 'Subscription Status', 'Shipping Type',\n",
            "       'Discount Applied', 'Promo Code Used', 'Previous Purchases',\n",
            "       'Payment Method', 'Frequency of Purchases'],\n",
            "      dtype='object')\n"
          ]
        }
      ]
    },
    {
      "cell_type": "code",
      "source": [
        "# Convert 'Subscription Status' to numerical values (1 for Yes, 0 for No)\n",
        "df['Subscription_Status_Numeric'] = df['Subscription Status'].apply(lambda x: 1 if x == 'Yes' else 0)\n",
        "\n",
        "# Calculate the mean of the numerical column\n",
        "Subscription_Status_mean = df['Subscription_Status_Numeric'].mean()\n",
        "\n",
        "print(f\"Estimated success probability (p): {Subscription_Status_mean:.2f}\")"
      ],
      "metadata": {
        "colab": {
          "base_uri": "https://localhost:8080/"
        },
        "id": "uZ_nAghq0YiM",
        "outputId": "5ba945cf-7e1e-4daa-e463-2ff7d8df9088"
      },
      "execution_count": null,
      "outputs": [
        {
          "output_type": "stream",
          "name": "stdout",
          "text": [
            "Estimated success probability (p): 0.27\n"
          ]
        }
      ]
    },
    {
      "cell_type": "code",
      "source": [
        "n=100\n",
        "p=Subscription_Status_mean\n",
        "samples=np.arange(0,n+1)\n",
        "probabilities = [random.binomial(i, p) for i in samples]\n",
        "print(probabilities)"
      ],
      "metadata": {
        "colab": {
          "base_uri": "https://localhost:8080/"
        },
        "id": "v-qpVZzv16_F",
        "outputId": "ed5f8252-9e0c-4ce6-ec0d-bdaa40929ada"
      },
      "execution_count": null,
      "outputs": [
        {
          "output_type": "stream",
          "name": "stdout",
          "text": [
            "[0, 0, 0, 1, 3, 2, 0, 1, 2, 3, 2, 3, 2, 3, 4, 3, 5, 3, 3, 5, 11, 8, 3, 6, 11, 4, 11, 9, 4, 8, 9, 6, 11, 15, 9, 14, 9, 12, 10, 13, 15, 15, 12, 15, 16, 10, 13, 22, 9, 16, 11, 18, 12, 20, 18, 11, 16, 17, 22, 10, 17, 17, 12, 13, 15, 15, 17, 22, 17, 21, 24, 25, 32, 26, 22, 19, 12, 18, 27, 22, 16, 25, 21, 28, 21, 25, 23, 21, 28, 21, 17, 27, 21, 25, 30, 24, 29, 31, 30, 32, 26]\n"
          ]
        }
      ]
    },
    {
      "cell_type": "code",
      "source": [
        "plt.figure(figsize=(10,6))\n",
        "plt.bar(samples,probabilities)\n",
        "plt.xlabel(\"Number of Samples\")\n",
        "plt.ylabel(\"Number of Success\")\n",
        "plt.title(\"Binomial Distribution\")\n",
        "plt.show()"
      ],
      "metadata": {
        "colab": {
          "base_uri": "https://localhost:8080/",
          "height": 564
        },
        "id": "5ARHd3V_3Mzy",
        "outputId": "ad3fe9dc-7e1f-406d-a21f-ddf01b2d3ead"
      },
      "execution_count": null,
      "outputs": [
        {
          "output_type": "display_data",
          "data": {
            "text/plain": [
              "<Figure size 1000x600 with 1 Axes>"
            ],
            "image/png": "[encoded data removed]"
          },
          "metadata": {}
        }
      ]
    }
  ]
}